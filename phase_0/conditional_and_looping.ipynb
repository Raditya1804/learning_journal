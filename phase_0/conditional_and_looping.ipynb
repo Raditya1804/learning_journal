{
  "nbformat": 4,
  "nbformat_minor": 0,
  "metadata": {
    "colab": {
      "name": "conditional_and_looping.ipynb",
      "provenance": []
    },
    "kernelspec": {
      "name": "python3",
      "display_name": "Python 3"
    },
    "language_info": {
      "name": "python"
    }
  },
  "cells": [
    {
      "cell_type": "code",
      "source": [
        "angka = 15\n",
        "print (f'isi variabel angka adalah {angka}')\n",
        "print (f'{angka} lebih kecil dari 10') # memerlukan sebuah kondisi"
      ],
      "metadata": {
        "colab": {
          "base_uri": "https://localhost:8080/"
        },
        "id": "89pPsEpx2bqF",
        "outputId": "0a6a3525-3b12-4521-ff13-01bab077bd6e"
      },
      "execution_count": 3,
      "outputs": [
        {
          "output_type": "stream",
          "name": "stdout",
          "text": [
            "isi variabel angka adalah 15\n",
            "15 lebih kecil dari 10\n"
          ]
        }
      ]
    },
    {
      "cell_type": "code",
      "source": [
        "angka = 15\n",
        "print (f'isi variabel angka adalah {angka}')\n",
        "if True :\n",
        "  print (f'{angka} lebih kecil dari 10')\n",
        "\n",
        "angka = 15\n",
        "print (f'isi variabel angka adalah {angka}')\n",
        "if False :\n",
        "  print (f'{angka} lebih kecil dari 10')\n"
      ],
      "metadata": {
        "colab": {
          "base_uri": "https://localhost:8080/"
        },
        "id": "RilbsEWK5OTG",
        "outputId": "e336b64f-20de-4c4f-cebd-af648fe25384"
      },
      "execution_count": 5,
      "outputs": [
        {
          "output_type": "stream",
          "name": "stdout",
          "text": [
            "isi variabel angka adalah 15\n",
            "15 lebih kecil dari 10\n",
            "isi variabel angka adalah 15\n"
          ]
        }
      ]
    },
    {
      "cell_type": "code",
      "source": [
        "angka > 10"
      ],
      "metadata": {
        "colab": {
          "base_uri": "https://localhost:8080/"
        },
        "id": "w9gMJQsv50WH",
        "outputId": "fd90f891-323e-4863-f157-deba13b58ae0"
      },
      "execution_count": 7,
      "outputs": [
        {
          "output_type": "execute_result",
          "data": {
            "text/plain": [
              "True"
            ]
          },
          "metadata": {},
          "execution_count": 7
        }
      ]
    },
    {
      "cell_type": "code",
      "source": [
        "angka < 10"
      ],
      "metadata": {
        "colab": {
          "base_uri": "https://localhost:8080/"
        },
        "id": "w7ed9-BO59Na",
        "outputId": "21a01166-2070-48ad-b9db-185c9185fd44"
      },
      "execution_count": 8,
      "outputs": [
        {
          "output_type": "execute_result",
          "data": {
            "text/plain": [
              "False"
            ]
          },
          "metadata": {},
          "execution_count": 8
        }
      ]
    },
    {
      "cell_type": "code",
      "execution_count": 11,
      "metadata": {
        "colab": {
          "base_uri": "https://localhost:8080/"
        },
        "id": "5OuG1EGKxYwP",
        "outputId": "67c91de5-1815-4d65-d4c7-fd6f45bd486e"
      },
      "outputs": [
        {
          "output_type": "stream",
          "name": "stdout",
          "text": [
            "isi variabel angka adalah 1\n",
            "1 lebih kecil dari 10\n",
            "ini masih dibawah if\n",
            "ini sudah diluar if\n"
          ]
        }
      ],
      "source": [
        "# menggunakan kondisi if\n",
        "# if <statement> boolean= True, False>\n",
        "# indentation adalah spasi didepan kode  \n",
        "angka = 1 \n",
        "print (f'isi variabel angka adalah {angka}')\n",
        "if angka < 10 :\n",
        "  print (f'{angka} lebih kecil dari 10') # indentation\n",
        "  print ('ini masih dibawah if')\n",
        "print ('ini sudah diluar if') # tidak dalam kondisi if"
      ]
    },
    {
      "cell_type": "code",
      "source": [
        "# menentukan bilangan itu ganjil atau genap\n",
        "angka = 1\n",
        "print (f'isi variabel dengan angka adalah {angka}')\n",
        "if angka % 2 == 0: # % = modulus (sisa bagi)\n",
        "   print (f'{angka} adalah genap')\n",
        "else:\n",
        "  print (f'{angka} adalah ganjil')\n"
      ],
      "metadata": {
        "colab": {
          "base_uri": "https://localhost:8080/"
        },
        "id": "-YDaVMoY2k4U",
        "outputId": "f01a9fea-38ed-451f-d52d-cf32fcf0bd8e"
      },
      "execution_count": 15,
      "outputs": [
        {
          "output_type": "stream",
          "name": "stdout",
          "text": [
            "isi variabel dengan angka adalah 1\n",
            "1 adalah ganjil\n"
          ]
        }
      ]
    },
    {
      "cell_type": "code",
      "source": [
        "# menentukan bilangan ganjil atau genap\n",
        "angka = 4\n",
        "if (angka % 2):\n",
        "  print (f'{angka} bilangan ganjil')\n",
        "else:\n",
        "  print (f'{angka} bilangan genap')\n"
      ],
      "metadata": {
        "colab": {
          "base_uri": "https://localhost:8080/"
        },
        "id": "SjUfHgk_3Pj6",
        "outputId": "94f3908e-d350-4540-fd57-996cac82ddcb"
      },
      "execution_count": null,
      "outputs": [
        {
          "output_type": "stream",
          "name": "stdout",
          "text": [
            "4 bilangan genap\n"
          ]
        }
      ]
    },
    {
      "cell_type": "code",
      "source": [
        "# if - elif - else\n",
        "# else = selain kondisi itu\n",
        "# dinamis\n",
        "angka = 10\n",
        "print (f'isi variabel angka adalah {angka}')\n",
        "if angka == 10 :\n",
        "  print (f'{angka} sama dengan 10')\n",
        "elif angka <10 : #else if = elif (logika untuk lebih dari dua kondisi)\n",
        "  print (f'{angka} lebih kecil dari 10')\n",
        "else :\n",
        "  print (f'{angka} lebih besar dari 10')"
      ],
      "metadata": {
        "id": "P6vB06-V9TdJ"
      },
      "execution_count": null,
      "outputs": []
    },
    {
      "cell_type": "code",
      "source": [
        "# studi kasus untuk if bersarang (nested if)\n",
        "buahbuahan = ['pepaya', 'mangga', 'pisang', 'jambu', 'jeruk']\n",
        "if len(buahbuahan) > 3 :\n",
        "  print ('mampir ke toko buah, cari jeruk')\n",
        "  if 'jeruk' in buahbuahan :\n",
        "    print ('beli jeruk')\n",
        "  else :\n",
        "    print ('tidak ada jeruk')\n",
        "else :\n",
        "  print ('skip, buah buahan yang dijual kurang variatif')"
      ],
      "metadata": {
        "colab": {
          "base_uri": "https://localhost:8080/"
        },
        "id": "ww4YST55-33t",
        "outputId": "20bd6b9d-b6c0-4c0a-8e32-879ac45ff101"
      },
      "execution_count": 16,
      "outputs": [
        {
          "output_type": "stream",
          "name": "stdout",
          "text": [
            "mampir ke toko buah, cari jeruk\n",
            "beli jeruk\n"
          ]
        }
      ]
    },
    {
      "cell_type": "code",
      "source": [
        "# studi kasus untuk if bersarang (nested if)\n",
        "buahbuahan = ['pepaya', 'mangga', 'pisang', 'jambu']\n",
        "if len(buahbuahan) > 3 :\n",
        "  print ('mampir ke toko buah, cari jeruk')\n",
        "  if 'jeruk' in buahbuahan :\n",
        "    print ('beli jeruk')\n",
        "  else :\n",
        "    print ('tidak ada jeruk')\n",
        "    if 'mangga' in buahbuahan :\n",
        "      print ('beli mangga aja deh')\n",
        "else :\n",
        "  print ('skip, buah buahan yang dijual kurang variatif')"
      ],
      "metadata": {
        "colab": {
          "base_uri": "https://localhost:8080/"
        },
        "id": "V58KH5k__ta3",
        "outputId": "34f3c913-124b-4d85-8328-732da8c3cffb"
      },
      "execution_count": 19,
      "outputs": [
        {
          "output_type": "stream",
          "name": "stdout",
          "text": [
            "mampir ke toko buah, cari jeruk\n",
            "tidak ada jeruk\n",
            "beli mangga aja deh\n"
          ]
        }
      ]
    },
    {
      "cell_type": "code",
      "source": [
        "# studi kasus untuk if bersarang (nested if)\n",
        "buahbuahan = ['pepaya', 'mangga', 'pisang']\n",
        "if len(buahbuahan) > 3 :\n",
        "  print ('mampir ke toko buah, cari jeruk')\n",
        "  if 'jeruk' in buahbuahan :\n",
        "    print ('beli jeruk')\n",
        "  else :\n",
        "    print ('tidak ada jeruk')\n",
        "    if 'mangga' in buahbuahan :\n",
        "      print ('beli mangga aja deh')\n",
        "else :\n",
        "  print ('skip, buah buahan yang dijual kurang variatif')"
      ],
      "metadata": {
        "colab": {
          "base_uri": "https://localhost:8080/"
        },
        "id": "uWFCOLJaAVGC",
        "outputId": "79d5adc3-c1a3-4f04-ff92-b649785533e1"
      },
      "execution_count": 20,
      "outputs": [
        {
          "output_type": "stream",
          "name": "stdout",
          "text": [
            "skip, buah buahan yang dijual kurang variatif\n"
          ]
        }
      ]
    },
    {
      "cell_type": "code",
      "source": [
        "# dosen\n",
        "# A : [85 - 100]\n",
        "# B : [65 - 85\n",
        "# C : [50 - 65\n",
        "# D : [25 - 50\n",
        "# E : [0 - 25\n",
        "nilai = 100\n",
        "if nilai >= 85 :\n",
        "  print(f'nilai kamu adalah A')\n",
        "elif nilai >= 65 :\n",
        "  print(f'nilai kamu adalah B')\n",
        "elif nilai >= 50 :\n",
        "  print(f'nilai kamu adalah C')\n",
        "elif nilai >= 25 :\n",
        "  print(f'nilai kamu adalah D')\n",
        "else:\n",
        "  print(f'nilai kamu adalah E')\n",
        "\n"
      ],
      "metadata": {
        "colab": {
          "base_uri": "https://localhost:8080/"
        },
        "id": "XjiNPG8P7Jyc",
        "outputId": "cb6ee4b1-a628-4496-c292-89cd075b88a5"
      },
      "execution_count": 22,
      "outputs": [
        {
          "output_type": "stream",
          "name": "stdout",
          "text": [
            "nilai kamu adalah A\n"
          ]
        }
      ]
    },
    {
      "cell_type": "markdown",
      "source": [
        "## Loop"
      ],
      "metadata": {
        "id": "SZnwS-XwDOnq"
      }
    },
    {
      "cell_type": "code",
      "source": [
        "# while\n",
        "while True : #akan selama menjadi true dan akan terus berjalan. solusi = update kondisi\n",
        "  print (f'nama saya raditya')"
      ],
      "metadata": {
        "id": "uHIkFTg3DkdQ"
      },
      "execution_count": null,
      "outputs": []
    },
    {
      "cell_type": "code",
      "source": [
        "# update kondisi\n",
        "angka = 5 \n",
        "angka"
      ],
      "metadata": {
        "colab": {
          "base_uri": "https://localhost:8080/"
        },
        "id": "zxYg8lz4D1zl",
        "outputId": "af46e80b-e910-4879-ef73-e3b11c82db74"
      },
      "execution_count": 34,
      "outputs": [
        {
          "output_type": "execute_result",
          "data": {
            "text/plain": [
              "5"
            ]
          },
          "metadata": {},
          "execution_count": 34
        }
      ]
    },
    {
      "cell_type": "code",
      "source": [
        "# while prinsip looping dengan variabel update\n",
        "# nama akan terus berkurang oleh -= 1 hingga ke titik 0 \n",
        "ulang = 5\n",
        "while ulang > 0 : \n",
        "  print (f'nama saya raditya')\n",
        "  ulang -= 1 "
      ],
      "metadata": {
        "colab": {
          "base_uri": "https://localhost:8080/"
        },
        "id": "_yDFBC21Ekn2",
        "outputId": "10c558a9-9db3-4daa-c552-f1b9f91c6276"
      },
      "execution_count": 47,
      "outputs": [
        {
          "output_type": "stream",
          "name": "stdout",
          "text": [
            "nama saya raditya\n",
            "nama saya raditya\n",
            "nama saya raditya\n",
            "nama saya raditya\n",
            "nama saya raditya\n"
          ]
        }
      ]
    },
    {
      "cell_type": "code",
      "source": [
        "# while fungsinya untuk pencegahan blok kode secara berulang\n",
        "# tabel perkalian 8\n",
        "i = 1\n",
        "while i <= 15 :\n",
        "  print (f'{8} x {i} = {8*i}')\n",
        "  i += 1"
      ],
      "metadata": {
        "colab": {
          "base_uri": "https://localhost:8080/"
        },
        "id": "XsPlGIiBGGeM",
        "outputId": "7b4272b5-72d1-410f-b6d1-6828b2e782af"
      },
      "execution_count": 51,
      "outputs": [
        {
          "output_type": "stream",
          "name": "stdout",
          "text": [
            "8 x 1 = 8\n",
            "8 x 2 = 16\n",
            "8 x 3 = 24\n",
            "8 x 4 = 32\n",
            "8 x 5 = 40\n",
            "8 x 6 = 48\n",
            "8 x 7 = 56\n",
            "8 x 8 = 64\n",
            "8 x 9 = 72\n",
            "8 x 10 = 80\n",
            "8 x 11 = 88\n",
            "8 x 12 = 96\n",
            "8 x 13 = 104\n",
            "8 x 14 = 112\n",
            "8 x 15 = 120\n"
          ]
        }
      ]
    },
    {
      "cell_type": "code",
      "source": [
        "# kalkulator 5 input\n",
        "jumlah_input = 5\n",
        "hasil = 1\n",
        "while jumlah_input > 0 :\n",
        "  angka = input ('masukkan angka anda : ')\n",
        "  hasil *= eval (angka)\n",
        "  jumlah_input -= 1\n",
        "print (hasil)\n",
        "\n"
      ],
      "metadata": {
        "colab": {
          "base_uri": "https://localhost:8080/"
        },
        "id": "iOr7j1whCvVM",
        "outputId": "c3ecb6e7-4d1c-4807-9c4f-946a61cc734f"
      },
      "execution_count": 53,
      "outputs": [
        {
          "output_type": "stream",
          "name": "stdout",
          "text": [
            "masukkan angka anda : 2\n",
            "masukkan angka anda : 3\n",
            "masukkan angka anda : 5\n",
            "masukkan angka anda : 6\n",
            "masukkan angka anda : 8\n",
            "1440\n"
          ]
        }
      ]
    },
    {
      "cell_type": "code",
      "source": [
        "#developer restaurant\n",
        "#makanan pesanan sampai makanan dikatakan \"cukup\"\n",
        "#hasil dari makanan disimpan dalam list\n",
        "\n",
        "print(\"aplikasi ini pilihan adalah menu pesanan anda\")\n",
        "nama = input ('tulis nama anda : ')\n",
        "pesanan = []\n",
        "pesanan_anda = ''\n",
        "while pesanan_anda != 'cukup' :\n",
        "  pesanan_anda = input ('tulis pesanan makanan yang anda inginkan : ')\n",
        "  if pesanan_anda != 'cukup':\n",
        "    pesanan.append(pesanan_anda)\n",
        "print (pesanan)\n"
      ],
      "metadata": {
        "colab": {
          "base_uri": "https://localhost:8080/"
        },
        "id": "yrEZDzz_DQER",
        "outputId": "2577329c-629a-4acf-93c5-96ac483d4bcb"
      },
      "execution_count": 61,
      "outputs": [
        {
          "output_type": "stream",
          "name": "stdout",
          "text": [
            "aplikasi ini pilihan adalah menu pesanan anda\n",
            "tulis nama anda : raditya\n",
            "tulis pesanan makanan yang anda inginkan : kue\n",
            "tulis pesanan makanan yang anda inginkan : e\n",
            "tulis pesanan makanan yang anda inginkan : q\n",
            "tulis pesanan makanan yang anda inginkan : cukup\n",
            "['kue', 'e', 'q']\n"
          ]
        }
      ]
    },
    {
      "cell_type": "code",
      "source": [
        "# while fugnsinya untuk pencegahan blok kode secara berulang\n",
        "# ini adalah while nested\n",
        "# perkalian 1 x 10 hingga 10 x 10\n",
        "i = 1\n",
        "j = 1\n",
        "while i <= 10 :\n",
        "  while j <= 10 :\n",
        "    print (f'{i} x {j} = {i*j}')\n",
        "    j += 1\n",
        "  print ()\n",
        "  j = 1\n",
        "  i += 1"
      ],
      "metadata": {
        "id": "Sv5W2VPyKQUD"
      },
      "execution_count": null,
      "outputs": []
    },
    {
      "cell_type": "code",
      "source": [
        "# loop for\n",
        "# for <variasi> in <list>\n",
        "# type data majemuk [list]\n",
        "buahbuahan = ['pepaya', 'mangga', 'pisang', 'jambu']\n",
        "for buah in buahbuahan :\n",
        "  print (f'buah yang tersedia adalah {buah}')\n"
      ],
      "metadata": {
        "colab": {
          "base_uri": "https://localhost:8080/"
        },
        "id": "yY3ULkGzLdf7",
        "outputId": "9b2979a8-b368-4da1-9120-d71ab87ee371"
      },
      "execution_count": 66,
      "outputs": [
        {
          "output_type": "stream",
          "name": "stdout",
          "text": [
            "buah yang tersedia adalah pepaya\n",
            "buah yang tersedia adalah mangga\n",
            "buah yang tersedia adalah pisang\n",
            "buah yang tersedia adalah jambu\n"
          ]
        }
      ]
    },
    {
      "cell_type": "code",
      "source": [
        "# range dari sekian ke sekian\n",
        "list(range(1,10,2)) #start, stop, step\n",
        "\n"
      ],
      "metadata": {
        "colab": {
          "base_uri": "https://localhost:8080/"
        },
        "id": "dsSIp7y2MXj8",
        "outputId": "2d984abd-858b-4fa0-d33c-8811a2561b8d"
      },
      "execution_count": 72,
      "outputs": [
        {
          "output_type": "execute_result",
          "data": {
            "text/plain": [
              "[1, 3, 5, 7, 9]"
            ]
          },
          "metadata": {},
          "execution_count": 72
        }
      ]
    },
    {
      "cell_type": "code",
      "source": [
        "list(range(len(buahbuahan)))"
      ],
      "metadata": {
        "colab": {
          "base_uri": "https://localhost:8080/"
        },
        "id": "p93vXwhrM0Oz",
        "outputId": "eb07b63e-020d-4514-becd-3f310a832eb7"
      },
      "execution_count": 74,
      "outputs": [
        {
          "output_type": "execute_result",
          "data": {
            "text/plain": [
              "[0, 1, 2, 3]"
            ]
          },
          "metadata": {},
          "execution_count": 74
        }
      ]
    },
    {
      "cell_type": "code",
      "source": [
        "for i in range(len(buahbuahan)) :\n",
        "  print (f'buah yang tersedia adalah {buahbuahan[i]}')\n"
      ],
      "metadata": {
        "colab": {
          "base_uri": "https://localhost:8080/"
        },
        "id": "7obrxcDjM-wB",
        "outputId": "88a11a77-4097-4aae-ec64-fc5b28cd8537"
      },
      "execution_count": 77,
      "outputs": [
        {
          "output_type": "stream",
          "name": "stdout",
          "text": [
            "buah yang tersedia adalah pepaya\n",
            "buah yang tersedia adalah mangga\n",
            "buah yang tersedia adalah pisang\n",
            "buah yang tersedia adalah jambu\n"
          ]
        }
      ]
    },
    {
      "cell_type": "code",
      "source": [
        "for i in range(1,11) :\n",
        "  print (f'{7} x {i} = {7*i}')\n",
        "  "
      ],
      "metadata": {
        "id": "nshq0zDhNx5P"
      },
      "execution_count": null,
      "outputs": []
    },
    {
      "cell_type": "code",
      "source": [
        "for i in range(1,11) :\n",
        "  for j in range(1,11) :\n",
        "    print (f'{i} x {j} = {j*i}')\n",
        "  print()\n"
      ],
      "metadata": {
        "id": "wHmwcXSzOB4D"
      },
      "execution_count": null,
      "outputs": []
    },
    {
      "cell_type": "code",
      "source": [
        "# 2 keywords yang bisa digunakan di loop\n",
        "# break dan continue\n",
        "for i in range(1,11) :\n",
        "  if i == 4 :\n",
        "    break\n",
        "  print (i)\n"
      ],
      "metadata": {
        "id": "VgVwIjVSPLRS"
      },
      "execution_count": null,
      "outputs": []
    },
    {
      "cell_type": "code",
      "source": [
        "for i in range(1,11) :\n",
        "  if i == 4 :\n",
        "    continue\n",
        "  print (i)\n"
      ],
      "metadata": {
        "id": "OAjgt7-wPsDi"
      },
      "execution_count": null,
      "outputs": []
    },
    {
      "cell_type": "code",
      "source": [
        "i = 1\n",
        "while i <= 10 :\n",
        "  if i == 4 :\n",
        "    continue #continue tidak boleh diatas update variabel\n",
        "  print (i)\n",
        "  i += 1"
      ],
      "metadata": {
        "id": "ACfAtIZvP5io"
      },
      "execution_count": null,
      "outputs": []
    },
    {
      "cell_type": "code",
      "source": [
        "i = 0\n",
        "while i <= 10 :\n",
        "  i += 1\n",
        "  if i == 4 :\n",
        "    continue \n",
        "  print (i)\n"
      ],
      "metadata": {
        "id": "xxoiNuEJQhTJ"
      },
      "execution_count": null,
      "outputs": []
    },
    {
      "cell_type": "code",
      "source": [
        "# penggunaan pass untuk sementara\n",
        "angka = 1 \n",
        "if angka % 2 == 0 :\n",
        "  pass\n",
        "else :\n",
        "  print ('bilangan ganjil')"
      ],
      "metadata": {
        "colab": {
          "base_uri": "https://localhost:8080/"
        },
        "id": "qH3ykzdlQHVu",
        "outputId": "73c1c319-ddfe-424c-f202-d67650e2a21f"
      },
      "execution_count": 94,
      "outputs": [
        {
          "output_type": "stream",
          "name": "stdout",
          "text": [
            "bilangan ganjil\n"
          ]
        }
      ]
    }
  ]
}